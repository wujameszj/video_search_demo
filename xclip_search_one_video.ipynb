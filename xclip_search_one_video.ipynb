{
 "cells": [
  {
   "cell_type": "code",
   "execution_count": 56,
   "id": "3e774218-ea45-4d9f-9925-4f66233aa8c6",
   "metadata": {},
   "outputs": [
    {
     "name": "stdout",
     "output_type": "stream",
     "text": [
      "The autoreload extension is already loaded. To reload it, use:\n",
      "  %reload_ext autoreload\n"
     ]
    }
   ],
   "source": [
    "from IPython.display import HTML\n",
    "from numpy import arange\n",
    "import matplotlib.pyplot as plt \n",
    "\n",
    "from transformers import AutoProcessor, AutoModel\n",
    "from torch import cat, save\n",
    "from decord import VideoReader, cpu\n",
    "\n",
    "from utils import compute_clip_sim, get_sample_frame_idx\n",
    "\n",
    "%load_ext autoreload\n",
    "%autoreload 2"
   ]
  },
  {
   "cell_type": "code",
   "execution_count": 2,
   "id": "bd5bfab8-571b-49ca-be1f-990b93c273f3",
   "metadata": {},
   "outputs": [],
   "source": [
    "model_name = \"microsoft/xclip-base-patch16-zero-shot\"\n",
    "processor, model = AutoProcessor.from_pretrained(model_name), AutoModel.from_pretrained(model_name)"
   ]
  },
  {
   "cell_type": "code",
   "execution_count": 39,
   "id": "998b7cab-1273-4d7c-839a-2c9661cfa491",
   "metadata": {},
   "outputs": [
    {
     "name": "stdin",
     "output_type": "stream",
     "text": [
      " videos/aerial_small.mp4\n"
     ]
    },
    {
     "name": "stdout",
     "output_type": "stream",
     "text": [
      "6570 total frames\n"
     ]
    },
    {
     "data": {
      "text/html": [
       "<video controls> <source src=\"videos/aerial_small.mp4\" type=\"video/mp4\"> </video>"
      ],
      "text/plain": [
       "<IPython.core.display.HTML object>"
      ]
     },
     "execution_count": 39,
     "metadata": {},
     "output_type": "execute_result"
    }
   ],
   "source": [
    "filename = input()\n",
    "vr = VideoReader(filename, ctx=cpu(0))\n",
    "print(len(vr), 'total frames')\n",
    "HTML(f'<video controls> <source src=\"{filename}\" type=\"video/mp4\"> </video>')"
   ]
  },
  {
   "cell_type": "code",
   "execution_count": 55,
   "id": "57740354-afdf-4a95-abce-4f019935bf5e",
   "metadata": {
    "scrolled": true,
    "tags": []
   },
   "outputs": [
    {
     "name": "stdout",
     "output_type": "stream",
     "text": [
      "draws one frame every 12 frames over 383 frames\n"
     ]
    },
    {
     "data": {
      "text/plain": [
       "torch.Size([17, 512])"
      ]
     },
     "execution_count": 55,
     "metadata": {},
     "output_type": "execute_result"
    }
   ],
   "source": [
    "idx, range_per_sample = get_sample_frame_idx(vr)\n",
    "\n",
    "video_features = []\n",
    "for i in range(0, len(idx)):\n",
    "    frames = vr.get_batch(idx[i]).asnumpy()\n",
    "    video_features.append(\n",
    "        model.get_video_features(**processor(videos=list(frames), return_tensors=\"pt\"))\n",
    "    )\n",
    "    \n",
    "video_features = cat(video_features); video_features.shape"
   ]
  },
  {
   "cell_type": "code",
   "execution_count": 12,
   "id": "d1217856-849c-40f0-8beb-880019014494",
   "metadata": {},
   "outputs": [],
   "source": [
    "save(video_features, 'feature_vectors/aerial_17samples.pt')"
   ]
  },
  {
   "cell_type": "code",
   "execution_count": 20,
   "id": "bc755db2-bef1-4da7-9d99-5526a311ff81",
   "metadata": {},
   "outputs": [
    {
     "name": "stdout",
     "output_type": "stream",
     "text": [
      "Content matching query found near 47.0s\n"
     ]
    },
    {
     "data": {
      "text/plain": [
       "(None,\n",
       " tensor([0.1914, 0.1939, 0.1907, 0.2066, 0.2008, 0.1922, 0.1787, 0.1922, 0.1860,\n",
       "         0.1821, 0.1869, 0.1558, 0.1713, 0.1732, 0.1821, 0.1817, 0.1773]))"
      ]
     },
     "execution_count": 21,
     "metadata": {},
     "output_type": "execute_result"
    }
   ],
   "source": [
    "text_features = model.get_text_features(**processor(text=[\"moving cars\"], return_tensors=\"pt\", padding=True))\n",
    "logits = compute_clip_sim(video_features, text_features)\n",
    "*logits, print(f'Content matching query found near {idx[logits.argmax()][0] // vr.get_avg_fps()}s')"
   ]
  },
  {
   "cell_type": "code",
   "execution_count": 10,
   "id": "96c82728-2de6-4a4d-aea1-85f2ee52ab57",
   "metadata": {},
   "outputs": [
    {
     "name": "stdout",
     "output_type": "stream",
     "text": [
      "Content matching query found near 63.0s\n"
     ]
    },
    {
     "data": {
      "text/plain": [
       "(tensor([0.1849, 0.1792, 0.1769, 0.1929, 0.1970, 0.1869, 0.1739, 0.1883, 0.1708,\n",
       "         0.1727, 0.1810, 0.1580, 0.1643, 0.1743, 0.1837, 0.1722, 0.1638]),\n",
       " None)"
      ]
     },
     "execution_count": 10,
     "metadata": {},
     "output_type": "execute_result"
    }
   ],
   "source": [
    "text_features = model.get_text_features(**processor(text=[\"moving cars\"], return_tensors=\"pt\", padding=True))\n",
    "logits = compute_clip_sim(video_features, text_features)\n",
    "*logits, print(f'Content matching query found near {idx[logits.argmax()][0] // vr.get_avg_fps()}s')"
   ]
  },
  {
   "cell_type": "code",
   "execution_count": 24,
   "id": "b1d5a26b-d3f5-43fc-86c7-24c1dd3378df",
   "metadata": {},
   "outputs": [
    {
     "name": "stdout",
     "output_type": "stream",
     "text": [
      "Content matching query found near 239.0s\n"
     ]
    },
    {
     "data": {
      "text/plain": [
       "(tensor([0.1890, 0.1825, 0.1760, 0.1883, 0.1835, 0.1720, 0.1705, 0.1795, 0.1687,\n",
       "         0.1727, 0.1925, 0.1745, 0.1795, 0.1749, 0.1955, 0.2008, 0.1892]),\n",
       " None)"
      ]
     },
     "execution_count": 24,
     "metadata": {},
     "output_type": "execute_result"
    }
   ],
   "source": [
    "text_features = model.get_text_features(**processor(text=[\"docked ship\"], return_tensors=\"pt\", padding=True))\n",
    "logits = compute_clip_sim(video_features, text_features)\n",
    "*logits, print(f'Content matching query found near {idx[logits.argmax()][0] // vr.get_avg_fps()}s')"
   ]
  },
  {
   "cell_type": "code",
   "execution_count": 13,
   "id": "58bb548f-22f0-4eb0-9777-fee56bfa6e9c",
   "metadata": {},
   "outputs": [
    {
     "name": "stdout",
     "output_type": "stream",
     "text": [
      "Content matching query found near 223.0s\n"
     ]
    },
    {
     "data": {
      "text/plain": [
       "(tensor([0.1796, 0.1666, 0.1669, 0.1834, 0.1829, 0.1631, 0.1617, 0.1752, 0.1564,\n",
       "         0.1671, 0.1821, 0.1788, 0.1759, 0.1740, 0.1964, 0.1925, 0.1763]),\n",
       " None)"
      ]
     },
     "execution_count": 13,
     "metadata": {},
     "output_type": "execute_result"
    }
   ],
   "source": [
    "text_features = model.get_text_features(**processor(text=[\"docked ship\"], return_tensors=\"pt\", padding=True))\n",
    "logits = compute_clip_sim(video_features, text_features)\n",
    "*logits, print(f'Content matching query found near {idx[logits.argmax()][0] // vr.get_avg_fps()}s')"
   ]
  },
  {
   "cell_type": "code",
   "execution_count": 29,
   "id": "dc9edc1c-373a-4ee7-9600-919c2545ba3c",
   "metadata": {},
   "outputs": [
    {
     "name": "stdout",
     "output_type": "stream",
     "text": [
      "Content matching query found near 15.0s\n"
     ]
    },
    {
     "data": {
      "text/plain": [
       "(tensor([0.2215, 0.2297, 0.2120, 0.2111, 0.2208, 0.2209, 0.2128, 0.2156, 0.2126,\n",
       "         0.2190, 0.2190, 0.1724, 0.2097, 0.2243, 0.2260, 0.2063, 0.2031]),\n",
       " None)"
      ]
     },
     "execution_count": 29,
     "metadata": {},
     "output_type": "execute_result"
    }
   ],
   "source": [
    "text_features = model.get_text_features(**processor(text=[\"tower\"], return_tensors=\"pt\", padding=True))\n",
    "logits = compute_clip_sim(video_features, text_features)\n",
    "*logits, print(f'Content matching query found near {idx[logits.argmax()][0] // vr.get_avg_fps()}s')"
   ]
  },
  {
   "cell_type": "code",
   "execution_count": 57,
   "id": "b9c98373-f2f9-49c7-87ad-f00ea6feb54a",
   "metadata": {},
   "outputs": [
    {
     "name": "stdout",
     "output_type": "stream",
     "text": [
      "Content matching query found near 223.0s\n"
     ]
    },
    {
     "data": {
      "image/png": "[encoded data removed]",
      "text/plain": [
       "<Figure size 640x480 with 1 Axes>"
      ]
     },
     "metadata": {},
     "output_type": "display_data"
    }
   ],
   "source": [
    "text_features = model.get_text_features(**processor(text=[\"tower\"], return_tensors=\"pt\", padding=True))\n",
    "logits = compute_clip_sim(video_features, text_features)\n",
    "print(f'Content matching query found near {idx[logits.argmax()][0] // vr.get_avg_fps()}s')\n",
    "\n",
    "sample_start_time = arange(len(idx)) * range_per_sample / vr.get_avg_fps()\n",
    "plt.plot(sample_start_time, *logits); plt.grid()#which='both', axis='both')"
   ]
  },
  {
   "cell_type": "code",
   "execution_count": 11,
   "id": "f9ddc06a-4c5b-454f-af1d-0c66f3041a90",
   "metadata": {},
   "outputs": [],
   "source": []
  }
 ],
 "metadata": {
  "kernelspec": {
   "display_name": "xclip",
   "language": "python",
   "name": "xclip"
  },
  "language_info": {
   "codemirror_mode": {
    "name": "ipython",
    "version": 3
   },
   "file_extension": ".py",
   "mimetype": "text/x-python",
   "name": "python",
   "nbconvert_exporter": "python",
   "pygments_lexer": "ipython3",
   "version": "3.8.16"
  }
 },
 "nbformat": 4,
 "nbformat_minor": 5
}
