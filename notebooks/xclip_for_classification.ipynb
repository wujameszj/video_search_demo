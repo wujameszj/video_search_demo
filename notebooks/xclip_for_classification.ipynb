{
 "cells": [
  {
   "cell_type": "code",
   "execution_count": 1,
   "id": "3e774218-ea45-4d9f-9925-4f66233aa8c6",
   "metadata": {},
   "outputs": [
    {
     "name": "stderr",
     "output_type": "stream",
     "text": [
      "/disk/users/zwu/envs/xclip/lib/python3.8/site-packages/tqdm/auto.py:22: TqdmWarning: IProgress not found. Please update jupyter and ipywidgets. See https://ipywidgets.readthedocs.io/en/stable/user_install.html\n",
      "  from .autonotebook import tqdm as notebook_tqdm\n"
     ]
    }
   ],
   "source": [
    "from transformers import AutoProcessor, AutoModel\n",
    "from decord import VideoReader, cpu\n",
    "from IPython.display import HTML\n",
    "\n",
    "from utils import compute_clip_sim, get_samples"
   ]
  },
  {
   "cell_type": "code",
   "execution_count": 2,
   "id": "bd5bfab8-571b-49ca-be1f-990b93c273f3",
   "metadata": {},
   "outputs": [
    {
     "name": "stdin",
     "output_type": "stream",
     "text": [
      " \n"
     ]
    }
   ],
   "source": [
    "model_name = input() or \"microsoft/xclip-base-patch16-zero-shot\"\n",
    "processor, model = AutoProcessor.from_pretrained(model_name), AutoModel.from_pretrained(model_name)"
   ]
  },
  {
   "cell_type": "code",
   "execution_count": 4,
   "id": "998b7cab-1273-4d7c-839a-2c9661cfa491",
   "metadata": {},
   "outputs": [
    {
     "name": "stdin",
     "output_type": "stream",
     "text": [
      " videos/tank inside.mp4\n"
     ]
    },
    {
     "data": {
      "text/html": [
       "<video controls> <source src=\"videos/tank inside.mp4\" type=\"video/mp4\"> </video>"
      ],
      "text/plain": [
       "<IPython.core.display.HTML object>"
      ]
     },
     "execution_count": 4,
     "metadata": {},
     "output_type": "execute_result"
    }
   ],
   "source": [
    "filename = input()\n",
    "vr = VideoReader(filename, ctx=cpu(0))\n",
    "HTML(f'<video controls> <source src=\"{filename}\" type=\"video/mp4\"> </video>')"
   ]
  },
  {
   "cell_type": "code",
   "execution_count": 12,
   "id": "3fcd036f-cfcd-4f29-bc8c-78b2f48639e2",
   "metadata": {},
   "outputs": [],
   "source": [
    "classes = [\"tank movement\", \"office laptop\", \"moving cars\", 'aircraft in hangar', 'machine']\n",
    "classes = [\"inside of a military vehicle\", \"sports car engine\", \"chemistry experiment\", 'missile launcher', 'aircraft in hangar']"
   ]
  },
  {
   "cell_type": "code",
   "execution_count": 13,
   "id": "82b95d91-7b60-4291-8806-bc7f1d0f77fc",
   "metadata": {},
   "outputs": [
    {
     "name": "stdout",
     "output_type": "stream",
     "text": [
      "Reducing sample interval to 1\n",
      "[0, 1, 2, 3, 4, 5, 6, 7, 8, 9, 10, 11, 12, 13, 14, 15, 16, 17, 18, 19, 20, 21, 22, 23, 24, 25, 26, 27, 28, 29, 30, 31]\n"
     ]
    }
   ],
   "source": [
    "frames = get_samples(vr)\n",
    "video_features = model.get_video_features(**processor(videos=list(frames), return_tensors=\"pt\"))\n",
    "text_features = model.get_text_features(**processor(text=classes, return_tensors=\"pt\", padding=True))"
   ]
  },
  {
   "cell_type": "code",
   "execution_count": 14,
   "id": "bc755db2-bef1-4da7-9d99-5526a311ff81",
   "metadata": {},
   "outputs": [
    {
     "data": {
      "text/plain": [
       "(tensor([0.2393, 0.2336, 0.2255, 0.2205, 0.2067]),\n",
       " 'inside of a military vehicle')"
      ]
     },
     "execution_count": 14,
     "metadata": {},
     "output_type": "execute_result"
    }
   ],
   "source": [
    "logits = compute_clip_sim(video_features, text_features)\n",
    "*logits.T, classes[logits.argmax()]"
   ]
  },
  {
   "cell_type": "code",
   "execution_count": null,
   "id": "4d4a7145-abd5-4283-8c5c-7fdabbf0e3db",
   "metadata": {},
   "outputs": [],
   "source": []
  }
 ],
 "metadata": {
  "kernelspec": {
   "display_name": "xclip",
   "language": "python",
   "name": "xclip"
  },
  "language_info": {
   "codemirror_mode": {
    "name": "ipython",
    "version": 3
   },
   "file_extension": ".py",
   "mimetype": "text/x-python",
   "name": "python",
   "nbconvert_exporter": "python",
   "pygments_lexer": "ipython3",
   "version": "3.8.16"
  }
 },
 "nbformat": 4,
 "nbformat_minor": 5
}
