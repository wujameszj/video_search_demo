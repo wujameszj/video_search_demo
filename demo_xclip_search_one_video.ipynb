{
 "cells": [
  {
   "cell_type": "code",
   "execution_count": 39,
   "id": "3e774218-ea45-4d9f-9925-4f66233aa8c6",
   "metadata": {},
   "outputs": [],
   "source": [
    "from transformers import AutoProcessor, AutoModel\n",
    "from torch import cat, save\n",
    "\n",
    "from decord import VideoReader, cpu\n",
    "from IPython.display import HTML\n",
    "\n",
    "from utils import compute_clip_sim, get_samples"
   ]
  },
  {
   "cell_type": "code",
   "execution_count": 3,
   "id": "7eaac221-9567-45e9-9171-6645b8ae5663",
   "metadata": {},
   "outputs": [],
   "source": [
    "%load_ext autoreload\n",
    "%autoreload 2"
   ]
  },
  {
   "cell_type": "code",
   "execution_count": 4,
   "id": "bd5bfab8-571b-49ca-be1f-990b93c273f3",
   "metadata": {},
   "outputs": [
    {
     "name": "stdin",
     "output_type": "stream",
     "text": [
      " \n"
     ]
    }
   ],
   "source": [
    "model_name = \"microsoft/xclip-base-patch16-zero-shot\"\n",
    "processor, model = AutoProcessor.from_pretrained(model_name), AutoModel.from_pretrained(model_name)"
   ]
  },
  {
   "cell_type": "code",
   "execution_count": 5,
   "id": "998b7cab-1273-4d7c-839a-2c9661cfa491",
   "metadata": {},
   "outputs": [
    {
     "name": "stdin",
     "output_type": "stream",
     "text": [
      " videos/aerial.mp4\n"
     ]
    },
    {
     "data": {
      "text/html": [
       "<video controls> <source src=\"videos/aerial.mp4\" type=\"video/mp4\"> </video>"
      ],
      "text/plain": [
       "<IPython.core.display.HTML object>"
      ]
     },
     "execution_count": 5,
     "metadata": {},
     "output_type": "execute_result"
    }
   ],
   "source": [
    "filename = input()\n",
    "vr = VideoReader(filename, ctx=cpu(0))\n",
    "HTML(f'<video controls> <source src=\"{filename}\" type=\"video/mp4\"> </video>')"
   ]
  },
  {
   "cell_type": "code",
   "execution_count": 9,
   "id": "4c9dbc19-fa89-4a69-8a69-434414c431b1",
   "metadata": {},
   "outputs": [
    {
     "name": "stdin",
     "output_type": "stream",
     "text": [
      " \n"
     ]
    },
    {
     "name": "stdout",
     "output_type": "stream",
     "text": [
      "total frames: 6570\n"
     ]
    }
   ],
   "source": [
    "sample_interval = input() or 30   # in seconds\n",
    "FPS = 24\n",
    "print('total frames:', len(vr))"
   ]
  },
  {
   "cell_type": "code",
   "execution_count": 33,
   "id": "a3e6e802-a501-4e50-ba07-227627369ec6",
   "metadata": {
    "scrolled": true,
    "tags": []
   },
   "outputs": [
    {
     "name": "stdout",
     "output_type": "stream",
     "text": [
      "[0, 15, 30, 45, 60, 75, 90, 105, 120, 135, 150, 165, 180, 195, 210, 225, 240, 255, 270, 285, 300, 315, 330, 345, 360, 375, 390, 405, 420, 435, 450, 465]\n",
      "[720, 735, 750, 765, 780, 795, 810, 825, 840, 855, 870, 885, 900, 915, 930, 945, 960, 975, 990, 1005, 1020, 1035, 1050, 1065, 1080, 1095, 1110, 1125, 1140, 1155, 1170, 1185]\n",
      "[1440, 1455, 1470, 1485, 1500, 1515, 1530, 1545, 1560, 1575, 1590, 1605, 1620, 1635, 1650, 1665, 1680, 1695, 1710, 1725, 1740, 1755, 1770, 1785, 1800, 1815, 1830, 1845, 1860, 1875, 1890, 1905]\n",
      "[2160, 2175, 2190, 2205, 2220, 2235, 2250, 2265, 2280, 2295, 2310, 2325, 2340, 2355, 2370, 2385, 2400, 2415, 2430, 2445, 2460, 2475, 2490, 2505, 2520, 2535, 2550, 2565, 2580, 2595, 2610, 2625]\n",
      "[2880, 2895, 2910, 2925, 2940, 2955, 2970, 2985, 3000, 3015, 3030, 3045, 3060, 3075, 3090, 3105, 3120, 3135, 3150, 3165, 3180, 3195, 3210, 3225, 3240, 3255, 3270, 3285, 3300, 3315, 3330, 3345]\n",
      "[3600, 3615, 3630, 3645, 3660, 3675, 3690, 3705, 3720, 3735, 3750, 3765, 3780, 3795, 3810, 3825, 3840, 3855, 3870, 3885, 3900, 3915, 3930, 3945, 3960, 3975, 3990, 4005, 4020, 4035, 4050, 4065]\n",
      "[4320, 4335, 4350, 4365, 4380, 4395, 4410, 4425, 4440, 4455, 4470, 4485, 4500, 4515, 4530, 4545, 4560, 4575, 4590, 4605, 4620, 4635, 4650, 4665, 4680, 4695, 4710, 4725, 4740, 4755, 4770, 4785]\n",
      "[5040, 5055, 5070, 5085, 5100, 5115, 5130, 5145, 5160, 5175, 5190, 5205, 5220, 5235, 5250, 5265, 5280, 5295, 5310, 5325, 5340, 5355, 5370, 5385, 5400, 5415, 5430, 5445, 5460, 5475, 5490, 5505]\n",
      "[5760, 5775, 5790, 5805, 5820, 5835, 5850, 5865, 5880, 5895, 5910, 5925, 5940, 5955, 5970, 5985, 6000, 6015, 6030, 6045, 6060, 6075, 6090, 6105, 6120, 6135, 6150, 6165, 6180, 6195, 6210, 6225]\n",
      "Reducing sample interval to 1\n",
      "[6480, 6481, 6482, 6483, 6484, 6485, 6486, 6487, 6488, 6489, 6490, 6491, 6492, 6493, 6494, 6495, 6496, 6497, 6498, 6499, 6500, 6501, 6502, 6503, 6504, 6505, 6506, 6507, 6508, 6509, 6510, 6511]\n"
     ]
    }
   ],
   "source": [
    "video_features = []\n",
    "for i in range(0, len(vr), sample_interval*FPS):\n",
    "    video_features.append(\n",
    "        model.get_video_features(**processor(videos=list(get_samples(vr, start=i)), return_tensors=\"pt\"))\n",
    "    )"
   ]
  },
  {
   "cell_type": "code",
   "execution_count": 34,
   "id": "914a78e3-f02d-4666-96a2-32dbdb337a17",
   "metadata": {
    "scrolled": true,
    "tags": []
   },
   "outputs": [
    {
     "data": {
      "text/plain": [
       "torch.Size([10, 512])"
      ]
     },
     "execution_count": 34,
     "metadata": {},
     "output_type": "execute_result"
    }
   ],
   "source": [
    "video_features = cat(video_features); video_features.shape"
   ]
  },
  {
   "cell_type": "code",
   "execution_count": 38,
   "id": "d1217856-849c-40f0-8beb-880019014494",
   "metadata": {},
   "outputs": [],
   "source": [
    "save(video_features, 'feature_vectors/aerial_10samples.pt')"
   ]
  },
  {
   "cell_type": "code",
   "execution_count": 24,
   "id": "bc755db2-bef1-4da7-9d99-5526a311ff81",
   "metadata": {},
   "outputs": [
    {
     "name": "stdout",
     "output_type": "stream",
     "text": [
      "Content found at frame #: tensor(9)\n"
     ]
    },
    {
     "data": {
      "text/plain": [
       "(tensor([0.1908, 0.1920, 0.2010, 0.1810, 0.1963, 0.1886, 0.1495, 0.1747, 0.1753,\n",
       "         0.2351]),\n",
       " None)"
      ]
     },
     "execution_count": 24,
     "metadata": {},
     "output_type": "execute_result"
    }
   ],
   "source": [
    "text_features = model.get_text_features(**processor(text=[\"moving cars\"], return_tensors=\"pt\", padding=True))\n",
    "logits = compute_clip_sim(video_features, text_features)\n",
    "*logits, print('Content found at frame #:', logits.argmax())"
   ]
  },
  {
   "cell_type": "code",
   "execution_count": 35,
   "id": "b1d5a26b-d3f5-43fc-86c7-24c1dd3378df",
   "metadata": {},
   "outputs": [
    {
     "name": "stdout",
     "output_type": "stream",
     "text": [
      "Content found at frame #: tensor(9)\n"
     ]
    },
    {
     "data": {
      "text/plain": [
       "(tensor([0.1882, 0.1774, 0.1819, 0.1698, 0.1738, 0.1847, 0.1650, 0.1742, 0.1969,\n",
       "         0.2153]),\n",
       " None)"
      ]
     },
     "execution_count": 35,
     "metadata": {},
     "output_type": "execute_result"
    }
   ],
   "source": [
    "text_features = model.get_text_features(**processor(text=[\"docked ship\"], return_tensors=\"pt\", padding=True))\n",
    "logits = compute_clip_sim(video_features, text_features)\n",
    "*logits, print('Content found at frame #:', logits.argmax())"
   ]
  },
  {
   "cell_type": "code",
   "execution_count": 31,
   "id": "4d4a7145-abd5-4283-8c5c-7fdabbf0e3db",
   "metadata": {},
   "outputs": [
    {
     "data": {
      "text/plain": [
       "4.5"
      ]
     },
     "execution_count": 31,
     "metadata": {},
     "output_type": "execute_result"
    }
   ],
   "source": [
    "6480/FPS/60"
   ]
  }
 ],
 "metadata": {
  "kernelspec": {
   "display_name": "xclip",
   "language": "python",
   "name": "xclip"
  },
  "language_info": {
   "codemirror_mode": {
    "name": "ipython",
    "version": 3
   },
   "file_extension": ".py",
   "mimetype": "text/x-python",
   "name": "python",
   "nbconvert_exporter": "python",
   "pygments_lexer": "ipython3",
   "version": "3.8.16"
  }
 },
 "nbformat": 4,
 "nbformat_minor": 5
}
