{
 "cells": [
  {
   "cell_type": "code",
   "execution_count": 139,
   "id": "3e774218-ea45-4d9f-9925-4f66233aa8c6",
   "metadata": {},
   "outputs": [],
   "source": [
    "from transformers import AutoProcessor, AutoModel\n",
    "from decord import VideoReader, cpu\n",
    "from IPython.display import HTML\n",
    "\n",
    "from utils import compute_clip_sim, get_samples"
   ]
  },
  {
   "cell_type": "code",
   "execution_count": 2,
   "id": "bd5bfab8-571b-49ca-be1f-990b93c273f3",
   "metadata": {},
   "outputs": [
    {
     "name": "stderr",
     "output_type": "stream",
     "text": [
      "Downloading (…)rocessor_config.json: 100%|██████████| 310/310 [00:00<00:00, 54.8kB/s]\n",
      "Downloading (…)okenizer_config.json: 100%|██████████| 927/927 [00:00<00:00, 192kB/s]\n",
      "Downloading (…)olve/main/vocab.json: 100%|██████████| 1.06M/1.06M [00:00<00:00, 9.39MB/s]\n",
      "Downloading (…)olve/main/merges.txt: 100%|██████████| 525k/525k [00:00<00:00, 5.59MB/s]\n",
      "Downloading (…)/main/tokenizer.json: 100%|██████████| 2.22M/2.22M [00:00<00:00, 18.7MB/s]\n",
      "Downloading (…)cial_tokens_map.json: 100%|██████████| 472/472 [00:00<00:00, 114kB/s]\n",
      "Downloading (…)lve/main/config.json: 100%|██████████| 8.90k/8.90k [00:00<00:00, 6.06MB/s]\n",
      "Downloading pytorch_model.bin: 100%|██████████| 780M/780M [00:03<00:00, 215MB/s]  \n"
     ]
    }
   ],
   "source": [
    "model_name = input() or \"microsoft/xclip-base-patch16-zero-shot\"\n",
    "processor, model = AutoProcessor.from_pretrained(model_name), AutoModel.from_pretrained(model_name)"
   ]
  },
  {
   "cell_type": "code",
   "execution_count": 124,
   "id": "998b7cab-1273-4d7c-839a-2c9661cfa491",
   "metadata": {},
   "outputs": [
    {
     "name": "stdin",
     "output_type": "stream",
     "text": [
      " road.mp4\n"
     ]
    },
    {
     "data": {
      "text/html": [
       "<video controls> <source src=\"road.mp4\" type=\"video/mp4\"> </video>"
      ],
      "text/plain": [
       "<IPython.core.display.HTML object>"
      ]
     },
     "execution_count": 124,
     "metadata": {},
     "output_type": "execute_result"
    }
   ],
   "source": [
    "filename = input()\n",
    "vr = VideoReader(filename, ctx=cpu(0))\n",
    "HTML(f'<video controls> <source src=\"{filename}\" type=\"video/mp4\"> </video>')"
   ]
  },
  {
   "cell_type": "code",
   "execution_count": 109,
   "id": "3fcd036f-cfcd-4f29-bc8c-78b2f48639e2",
   "metadata": {},
   "outputs": [],
   "source": [
    "classes = [\"tank movement\", \"office laptop\", \"moving cars\", 'aircraft in hangar', 'machine']"
   ]
  },
  {
   "cell_type": "code",
   "execution_count": 140,
   "id": "a3e6e802-a501-4e50-ba07-227627369ec6",
   "metadata": {},
   "outputs": [
    {
     "name": "stdout",
     "output_type": "stream",
     "text": [
      "132\n",
      "Reducing sample interval to 1\n",
      "[0, 1, 2, 3, 4, 5, 6, 7, 8, 9, 10, 11, 12, 13, 14, 15, 16, 17, 18, 19, 20, 21, 22, 23, 24, 25, 26, 27, 28, 29, 30, 31]\n"
     ]
    }
   ],
   "source": [
    "frames = get_samples(vr)\n",
    "video_features = model.get_video_features(**processor(videos=list(frames), return_tensors=\"pt\"))\n",
    "text_features = model.get_text_features(**processor(text=classes, return_tensors=\"pt\", padding=True))"
   ]
  },
  {
   "cell_type": "code",
   "execution_count": 142,
   "id": "bc755db2-bef1-4da7-9d99-5526a311ff81",
   "metadata": {},
   "outputs": [
    {
     "data": {
      "text/plain": [
       "(tensor([0.1738, 0.1569, 0.2126, 0.1460, 0.1698]), 'moving cars')"
      ]
     },
     "execution_count": 142,
     "metadata": {},
     "output_type": "execute_result"
    }
   ],
   "source": [
    "logits = compute_clip_sim(video_features, text_features)\n",
    "*logits.T, classes[logits.argmax()]"
   ]
  },
  {
   "cell_type": "code",
   "execution_count": 141,
   "id": "f5ba9922-f07b-4dcb-a9ba-08e05f31f94e",
   "metadata": {},
   "outputs": [
    {
     "data": {
      "text/plain": [
       "(tensor([0.1738, 0.1569, 0.2126, 0.1460, 0.1698]), 'moving cars')"
      ]
     },
     "execution_count": 141,
     "metadata": {},
     "output_type": "execute_result"
    }
   ],
   "source": [
    "logits = compute_clip_sim(text_features, video_features)\n",
    "*logits, classes[logits.argmax()]"
   ]
  },
  {
   "cell_type": "code",
   "execution_count": null,
   "id": "4d4a7145-abd5-4283-8c5c-7fdabbf0e3db",
   "metadata": {},
   "outputs": [],
   "source": []
  }
 ],
 "metadata": {
  "kernelspec": {
   "display_name": "xclip",
   "language": "python",
   "name": "xclip"
  },
  "language_info": {
   "codemirror_mode": {
    "name": "ipython",
    "version": 3
   },
   "file_extension": ".py",
   "mimetype": "text/x-python",
   "name": "python",
   "nbconvert_exporter": "python",
   "pygments_lexer": "ipython3",
   "version": "3.8.16"
  }
 },
 "nbformat": 4,
 "nbformat_minor": 5
}
